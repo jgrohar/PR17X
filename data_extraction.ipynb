{
 "cells": [
  {
   "cell_type": "markdown",
   "id": "3cf0b42b",
   "metadata": {},
   "source": [
    "# Kje naj danes kolesarim?\n",
    "## Geografska analiza rekreativnega kolesarjenja v Sloveniji\n",
    "---\n",
    "Postopek pridobivanja in prvotnega urejanja prvotnih podatkov o segmentih iz strave"
   ]
  },
  {
   "cell_type": "markdown",
   "id": "bc29cb74",
   "metadata": {},
   "source": [
    "Podatke pridobivamo iz aplikacije Strava, prek strava api. Request za segmente vrne 10 \"top\" segmentov na področju podanim z najbolj jugozahodno koordinato in najbol severovzhodno koordinato. Segment mora biti popolnoma vsebovan v območju (začetek in konec) da je štet. Zato naredimo dva prehoda Slovenije: 1. Manjša območja z 33% prekrivanjem med območji, 2. večja območja s 25% prekrivanjem med področji.\n",
    "\n",
    "skrajne koordinate slovenije: \n",
    "- W: 46.29733474309481,13.377298277567231\n",
    "- S: 45.42310226559324,15.176809675876207\n",
    "- E: 46.47550563728631,16.595553138466073\n",
    "- N: 46.8749042171303,16.234607006235194"
   ]
  },
  {
   "cell_type": "code",
   "execution_count": 99,
   "id": "73d61c4e",
   "metadata": {},
   "outputs": [],
   "source": [
    "import numpy as np\n",
    "\n",
    "def generate_grid(lat_min, lat_max, lon_min, lon_max, \n",
    "                  step, overlap):\n",
    "    \"\"\"\n",
    "    Generates bounding boxes over a region with optional overlap.\n",
    "    Returns a list of tuples: (sw_lat, sw_lon, ne_lat, ne_lon)\n",
    "    \"\"\"\n",
    "    boxes = []\n",
    "\n",
    "    lat_step = step - overlap\n",
    "    lon_step = step - overlap\n",
    "\n",
    "    lat_vals = np.arange(lat_min, lat_max, lat_step)\n",
    "    lon_vals = np.arange(lon_min, lon_max, lon_step)\n",
    "\n",
    "    for lat in lat_vals:\n",
    "        for lon in lon_vals:\n",
    "            sw_lat = lat\n",
    "            sw_lon = lon\n",
    "            ne_lat = min(lat + step, lat_max)\n",
    "            ne_lon = min(lon + step, lon_max)\n",
    "            boxes.append((sw_lat, sw_lon, ne_lat, ne_lon))\n",
    "\n",
    "    return boxes\n"
   ]
  },
  {
   "cell_type": "markdown",
   "id": "93675af2",
   "metadata": {},
   "source": [
    "Smaller boxes:"
   ]
  },
  {
   "cell_type": "code",
   "execution_count": 100,
   "id": "397a42d7",
   "metadata": {},
   "outputs": [
    {
     "name": "stdout",
     "output_type": "stream",
     "text": [
      "495 boxes generated.\n"
     ]
    }
   ],
   "source": [
    "# Extreme points\n",
    "lat_min = 45.4231\n",
    "lat_max = 46.8749\n",
    "lon_min = 13.3773\n",
    "lon_max = 16.5955\n",
    "\n",
    "# Generate grid\n",
    "grid_small = generate_grid(lat_min, lat_max, lon_min, lon_max, step=0.15, overlap=0.05)\n",
    "\n",
    "# Print first few boxes\n",
    "# for box in grid:\n",
    "#     a, b, c, d = box\n",
    "#     print(f\"SW: ({a}, {b}), NE: ({c}, {d})\")\n",
    "\n",
    "print(len(grid_small), \"boxes generated.\")"
   ]
  },
  {
   "cell_type": "markdown",
   "id": "f17b7ee1",
   "metadata": {},
   "source": [
    "Bigger boxes:"
   ]
  },
  {
   "cell_type": "code",
   "execution_count": 101,
   "id": "9a8d04d7",
   "metadata": {},
   "outputs": [
    {
     "name": "stdout",
     "output_type": "stream",
     "text": [
      "32 boxes generated.\n"
     ]
    }
   ],
   "source": [
    "# Generate grid\n",
    "grid_big = generate_grid(lat_min, lat_max, lon_min, lon_max, step=0.6, overlap=0.15)\n",
    "\n",
    "# Print first few boxes\n",
    "# for box in grid:\n",
    "#     a, b, c, d = box\n",
    "#     print(f\"SW: ({a}, {b}), NE: ({c}, {d})\")\n",
    "\n",
    "print(len(grid_big), \"boxes generated.\")"
   ]
  },
  {
   "cell_type": "code",
   "execution_count": 1,
   "id": "5c750d9e",
   "metadata": {},
   "outputs": [],
   "source": [
    "import requests\n",
    "import json\n",
    "import time"
   ]
  },
  {
   "cell_type": "code",
   "execution_count": 103,
   "id": "ae87f507",
   "metadata": {},
   "outputs": [],
   "source": [
    "def get_segments_for_area(sw_lat, sw_lon, ne_lat, ne_lon):\n",
    "    url = \"https://www.strava.com/api/v3/segments/explore\"\n",
    "    \n",
    "    # Define parameters for the API request\n",
    "    params = {\n",
    "        \"bounds\": f\"{sw_lat},{sw_lon},{ne_lat},{ne_lon}\",\n",
    "        'activity_type': 'riding'\n",
    "    }\n",
    "    headers = {\n",
    "    'accept': 'application/json',\n",
    "    'authorization': '****', # Add your access token here\n",
    "    }\n",
    "\n",
    "    try:\n",
    "        # Make the API request\n",
    "        response = requests.get(url, headers=headers, params=params)\n",
    "        \n",
    "        # Check if the request was successful\n",
    "        if response.status_code == 200:\n",
    "            return response.json()  # Return the segments data in JSON format\n",
    "        else:\n",
    "            print(f\"Error: {response.status_code} for bounds {sw_lat}, {sw_lon}, {ne_lat}, {ne_lon}\")\n",
    "            return None\n",
    "    except requests.exceptions.RequestException as e:\n",
    "        print(f\"Request failed for bounds {sw_lat}, {sw_lon}, {ne_lat}, {ne_lon}: {e}\")\n",
    "        return None\n",
    "\n",
    "# Function to save segments data to a file\n",
    "def save_segments_to_file(data, filename):\n",
    "    with open(filename, 'a') as f:\n",
    "        json.dump(data, f)\n",
    "        f.write(\"\\n\")  # To separate each entry with a newline\n",
    "\n",
    "# Function to loop over grid cells and collect data\n",
    "def fetch_and_save_segments(grid):\n",
    "\n",
    "    grid_cells = grid\n",
    "    file_name = f\"{'big' if grid == grid_big else 'small'}box_segments_data.txt\"\n",
    "    \n",
    "    # Loop over all grid cells and fetch segments\n",
    "    for i, (sw_lat, sw_lon, ne_lat, ne_lon) in enumerate(grid_cells):\n",
    "        print(f\"Fetching segments for grid cell {i+1}/{len(grid_cells)}: SW({sw_lat}, {sw_lon}) - NE({ne_lat}, {ne_lon})\")\n",
    "        \n",
    "        # Fetch segments for this grid cell\n",
    "        segments_data = get_segments_for_area(sw_lat, sw_lon, ne_lat, ne_lon)\n",
    "        \n",
    "        if segments_data:\n",
    "            # Save the fetched data to a file\n",
    "            save_segments_to_file(segments_data, filename=file_name)\n",
    "        \n",
    "        # To avoid hitting the API rate limits, add a delay\n",
    "        time.sleep(10)\n",
    "\n",
    "# Fetch and save segments for the entire region, divided into 5x5 grid cells\n",
    "# fetch_and_save_segments(grid_small)\n",
    "# fetch_and_save_segments(grid_big)\n"
   ]
  },
  {
   "cell_type": "markdown",
   "id": "c5cf2398",
   "metadata": {},
   "source": [
    "Združevanje obeh file-ov, odstranjevanje segmentov ki se pojavijo večkrat, dobimo vmesni file ki ima vse unikatne segmente na določenem območju (pravokotnik s koordinatami ekstremnih točk slovenije). Pripravljeno za nadaljno čiščenje: --> segmenti popolnoma izven slovenije, prekratki segmenti, predolgi segmenti, ..."
   ]
  },
  {
   "cell_type": "code",
   "execution_count": 104,
   "id": "c6482481",
   "metadata": {},
   "outputs": [
    {
     "name": "stdout",
     "output_type": "stream",
     "text": [
      "Loaded 5128 segments -> 3190 unique segments saved.\n"
     ]
    }
   ],
   "source": [
    "def load_segments(file_path):\n",
    "    segments = []\n",
    "    with open(file_path, 'r') as f:\n",
    "        for line in f:\n",
    "            data = json.loads(line)\n",
    "            segments.extend(data.get('segments', []))\n",
    "    return segments\n",
    "\n",
    "small_segments = load_segments('data/raw/smallbox_segments_data.txt')\n",
    "big_segments = load_segments('data/raw/bigbox_segments_data.txt')\n",
    "\n",
    "all_segments = small_segments + big_segments\n",
    "unique_segments = {seg['id']: seg for seg in all_segments}  # Keep latest if duplicated\n",
    "filtered_segments = list(unique_segments.values())\n",
    "\n",
    "# with open('data/intermediate/filtered_segments.json', 'w') as f:\n",
    "#     json.dump(filtered_segments, f, indent=2)\n",
    "\n",
    "print(f\"Loaded {len(all_segments)} segments -> {len(filtered_segments)} unique segments saved.\")\n"
   ]
  },
  {
   "cell_type": "markdown",
   "id": "3f14f651",
   "metadata": {},
   "source": [
    "Dodatno čiščenje segmentov: \n",
    "1. Prekratki in predolgi: < 100m (kdorkoli lahko naredi segment, sigurno veliko takšnih ki so velikokrat prevoženi vendar nepomembni)\n",
    "                          > 25km (meni poznano ni v sloveniji zanimivih poti daljših od tega, verjetno samo kakšne trase maratonov dirk itd.)"
   ]
  },
  {
   "cell_type": "code",
   "execution_count": 105,
   "id": "60882424",
   "metadata": {},
   "outputs": [
    {
     "name": "stdout",
     "output_type": "stream",
     "text": [
      "41 short segments found.\n",
      "\n",
      "8 long segments found.\n",
      "Kolpski krog 68899.5\n",
      "Koč.Reka,Gotenica (od table do table) 40733.8\n",
      "Hinjski krog 32900.6\n",
      "Kalce - Col - Godovič - Kalce 46540.0\n",
      "ŠP torkova obvoz Loka-Dobrina 54104.8\n",
      "Torkova runda (kratka) 53254.8\n",
      "weitensfeld/prekova/flatnitz/abzw.deutschgr. 63850.6\n",
      "Dichterstein_Runde 25445.4\n"
     ]
    }
   ],
   "source": [
    "short_segments = [seg for seg in filtered_segments if seg['distance'] < 300]\n",
    "\n",
    "\n",
    "print(len(short_segments), \"short segments found.\")\n",
    "\n",
    "\n",
    "long_segments = [seg for seg in filtered_segments if seg['distance'] > 25000]\n",
    "\n",
    "print()\n",
    "print(len(long_segments), \"long segments found.\")\n",
    "for seg in long_segments:\n",
    "    print(seg['name'], seg['distance'])\n",
    "\n",
    "\n",
    "#ni bilo smiselno hah"
   ]
  },
  {
   "cell_type": "markdown",
   "id": "24bb770b",
   "metadata": {},
   "source": [
    "Skelpam da segments/explore klic vrača top 10 ne glede na to koliko voženj imajo ampak koloko uporabnikov jim je dalo zvezdico (kar že samo filtrira ven random kratke segmente ki so sicer veliko prevoženi), sicer žal nikjer ne piše točno po kakšnem kriteriju vrača segmente."
   ]
  },
  {
   "cell_type": "code",
   "execution_count": null,
   "id": "c9493bf2",
   "metadata": {},
   "outputs": [],
   "source": [
    "import folium\n",
    "\n",
    "with open(\"data/intermediate/filtered_segments.json\") as f:\n",
    "    segments = json.load(f)\n",
    "\n",
    "map_center = [46.1512, 14.9955]\n",
    "m = folium.Map(location=map_center, zoom_start=8)\n",
    "\n",
    "for seg in segments:\n",
    "    start_lat = seg['start_latlng'][0]\n",
    "    start_lon = seg['start_latlng'][1]\n",
    "    end_lat = seg['end_latlng'][0]\n",
    "    end_lon = seg['end_latlng'][1]\n",
    "\n",
    "    # Izračun sredine segmenta\n",
    "    mid_lat = (start_lat + end_lat) / 2\n",
    "    mid_lon = (start_lon + end_lon) / 2\n",
    "\n",
    "    popup = f\"{seg['name']}<br>Length: {seg['distance']:.1f} m<br>Elev: {seg['elev_difference']:.1f} m\"\n",
    "    folium.CircleMarker(\n",
    "        location=[mid_lat, mid_lon],\n",
    "        radius=3,\n",
    "        color='blue',\n",
    "        fill=True,\n",
    "        popup=popup\n",
    "    ).add_to(m)\n",
    "\n",
    "m.save(\"segments_map.html\")\n"
   ]
  },
  {
   "cell_type": "markdown",
   "id": "4586f91a",
   "metadata": {},
   "source": [
    "Čiščenje segmentov popolnoma izven zemljevida slovenije"
   ]
  },
  {
   "cell_type": "code",
   "execution_count": null,
   "id": "64870e3f",
   "metadata": {},
   "outputs": [],
   "source": [
    "from shapely.geometry import shape\n",
    "\n",
    "with open(\"countries.geojson\") as f:\n",
    "    data = json.load(f)\n",
    "\n",
    "# Slovenija\n",
    "slovenia_geom = None\n",
    "for feature in data[\"features\"]:\n",
    "    if feature[\"properties\"][\"name\"] == \"Slovenia\":\n",
    "        slovenia_geom = shape(feature[\"geometry\"])\n",
    "        break\n",
    "\n",
    "if slovenia_geom is None:\n",
    "    raise Exception(\"Slovenia not found in GeoJSON.\")\n"
   ]
  },
  {
   "cell_type": "code",
   "execution_count": null,
   "id": "43b793bd",
   "metadata": {},
   "outputs": [],
   "source": [
    "from shapely.geometry import Point\n",
    "\n",
    "def is_segment_inside_slovenia(segment, slovenia_geom):\n",
    "    start = Point(segment['start_latlng'][1], segment['start_latlng'][0])\n",
    "    end = Point(segment['end_latlng'][1], segment['end_latlng'][0])\n",
    "    \n",
    "    return slovenia_geom.contains(start) and slovenia_geom.contains(end)"
   ]
  },
  {
   "cell_type": "code",
   "execution_count": null,
   "id": "ab2c540d",
   "metadata": {},
   "outputs": [],
   "source": [
    "with open(\"data/intermediate/filtered_segments.json\") as f:\n",
    "    segments = json.load(f)\n",
    "\n",
    "filtered_segments = []\n",
    "for seg in segments:\n",
    "    if is_segment_inside_slovenia(seg, slovenia_geom):\n",
    "        filtered_segments.append(seg)\n",
    "\n",
    "with open('data/intermediate/filtered_segments_inside_slovenia.json', 'w') as f:\n",
    "    json.dump(filtered_segments, f, indent=2)\n"
   ]
  },
  {
   "cell_type": "code",
   "execution_count": 106,
   "id": "fd71981c",
   "metadata": {},
   "outputs": [
    {
     "name": "stdout",
     "output_type": "stream",
     "text": [
      "(13.365261, 45.423637, 16.515302, 46.863962)\n",
      "2.365766635100998\n",
      "True\n"
     ]
    }
   ],
   "source": [
    "print(slovenia_geom.bounds)\n",
    "print(slovenia_geom.area)\n",
    "print(slovenia_geom.contains(Point(14.9955, 46.1512)))  # Središče Slovenije"
   ]
  },
  {
   "cell_type": "code",
   "execution_count": 107,
   "id": "54d7f4a6",
   "metadata": {},
   "outputs": [
    {
     "name": "stdout",
     "output_type": "stream",
     "text": [
      "3190 segments inside Slovenia found.\n"
     ]
    }
   ],
   "source": [
    "print(len(filtered_segments), \"segments inside Slovenia found.\")"
   ]
  },
  {
   "cell_type": "code",
   "execution_count": null,
   "id": "39e1e472",
   "metadata": {},
   "outputs": [],
   "source": [
    "map_center = [46.1512, 14.9955]\n",
    "m = folium.Map(location=map_center, zoom_start=8)\n",
    "\n",
    "for seg in filtered_segments:\n",
    "    start_lat = seg['start_latlng'][0]\n",
    "    start_lon = seg['start_latlng'][1]\n",
    "    end_lat = seg['end_latlng'][0]\n",
    "    end_lon = seg['end_latlng'][1]\n",
    "\n",
    "    # Izračun sredine segmenta\n",
    "    mid_lat = (start_lat + end_lat) / 2\n",
    "    mid_lon = (start_lon + end_lon) / 2\n",
    "\n",
    "    popup = f\"{seg['name']}<br>Length: {seg['distance']:.1f} m<br>Elev: {seg['elev_difference']:.1f} m\"\n",
    "    folium.CircleMarker(\n",
    "        location=[mid_lat, mid_lon],\n",
    "        radius=3,\n",
    "        color='blue',\n",
    "        fill=True,\n",
    "        popup=popup\n",
    "    ).add_to(m)\n",
    "\n",
    "m.save(\"segments_map2.html\")\n"
   ]
  },
  {
   "cell_type": "code",
   "execution_count": null,
   "id": "45973911",
   "metadata": {},
   "outputs": [],
   "source": [
    "with open(\"data/intermediate/filtered_segments.json\") as f:\n",
    "    segments = json.load(f)\n",
    "\n",
    "with open(\"data/intermediate/filtered_segments_inside_slovenia.json\") as f:\n",
    "    filtered_segments = json.load(f)\n",
    "\n",
    "segments_outside_slovenia = [seg for seg in segments if not seg in filtered_segments]\n",
    "print(len(segments_outside_slovenia), \"segments outside Slovenia found.\")\n",
    "\n",
    "map_center = [46.1512, 14.9955]\n",
    "m = folium.Map(location=map_center, zoom_start=8)\n",
    "\n",
    "for seg in segments_outside_slovenia:\n",
    "    start_lat = seg['start_latlng'][0]\n",
    "    start_lon = seg['start_latlng'][1]\n",
    "    end_lat = seg['end_latlng'][0]\n",
    "    end_lon = seg['end_latlng'][1]\n",
    "\n",
    "    # Izračun sredine segmenta\n",
    "    mid_lat = (start_lat + end_lat) / 2\n",
    "    mid_lon = (start_lon + end_lon) / 2\n",
    "\n",
    "    popup = f\"{seg['name']}<br>Length: {seg['distance']:.1f} m<br>Elev: {seg['elev_difference']:.1f} m\"\n",
    "    folium.CircleMarker(\n",
    "        location=[mid_lat, mid_lon],\n",
    "        radius=3,\n",
    "        color='blue',\n",
    "        fill=True,\n",
    "        popup=popup\n",
    "    ).add_to(m)\n",
    "\n",
    "m.save(\"segments_map_outside_slovenia.html\")"
   ]
  },
  {
   "cell_type": "code",
   "execution_count": 108,
   "id": "e300a676",
   "metadata": {},
   "outputs": [],
   "source": [
    "HEADERS2 = {\n",
    "    'Authorization': f'****',\n",
    "    'Accept': 'application/json'\n",
    "}\n",
    "\n",
    "def get_segment_details(segment_id):\n",
    "    url = f\"https://www.strava.com/api/v3/segments/{segment_id}\"\n",
    "    try:\n",
    "        response = requests.get(url, headers=HEADERS2)\n",
    "        if response.status_code == 200:\n",
    "            return response.json()\n",
    "        else:\n",
    "            print(f\"Error fetching segment {segment_id}: {response.status_code}\")\n",
    "            return None\n",
    "    except requests.exceptions.RequestException as e:\n",
    "        print(f\"Request failed for segment {segment_id}: {e}\")\n",
    "        return None\n",
    "\n",
    "# detailed_segments = []\n",
    "\n",
    "# with open(\"data/intermediate/filtered_segments_inside_slovenia.json\") as f:\n",
    "#     base_segments = json.load(f)\n",
    "\n",
    "# for i, segment in enumerate(base_segments):\n",
    "#     seg_id = segment[\"id\"]\n",
    "#     print(f\"Fetching {i+1}/{len(base_segments)}: Segment ID {seg_id}\")\n",
    "#     details = get_segment_details(seg_id)\n",
    "#     if details:\n",
    "#         detailed_segments.append(details)\n",
    "#     time.sleep(10)  # zmanjša možnost prekoračitve rate limita\n",
    "\n",
    "# # Shrani rezultate v novo datoteko\n",
    "# with open(\"data/intermediate/segment_details.json\", \"w\") as out_file:\n",
    "#     json.dump(detailed_segments, out_file, indent=2)"
   ]
  },
  {
   "cell_type": "code",
   "execution_count": 109,
   "id": "fc8cf2bd",
   "metadata": {},
   "outputs": [
    {
     "name": "stdout",
     "output_type": "stream",
     "text": [
      "1526 detailed segments found.\n",
      "0 segments not found in detailed segments.\n"
     ]
    }
   ],
   "source": [
    "with open(\"data/intermediate/detailed_segments.json\") as f:\n",
    "    segments = json.load(f)\n",
    "\n",
    "with open(\"data/intermediate/filtered_segments_inside_slovenia.json\") as f:\n",
    "    filtered_segments = json.load(f)\n",
    "\n",
    "detailed_ids = {d_seg['id'] for d_seg in segments}\n",
    "\n",
    "failed_segments = [seg for seg in filtered_segments if seg[\"id\"] not in detailed_ids]\n",
    "\n",
    "print(len(detailed_ids), \"detailed segments found.\")\n",
    "print(len(failed_segments), \"segments not found in detailed segments.\")"
   ]
  },
  {
   "cell_type": "markdown",
   "id": "16393826",
   "metadata": {},
   "source": [
    "1526 segmentov v Sloveniji z dodatnimi podatki kot so število voženj, najhitrejša vožnja, maximalni naklon ,... pripravljeno na dodatno obdelavo:\n",
    "\n",
    "- brisanje nepotrebnih atributov kot so `resource state`, `private`, `hazardous`, `starred`, `created in updated at`, `star count`, `athlete_segments_stats`, `local legend`, `city`, `state`.\n",
    "- Dodajanje lastnih (območje/ regija, lastno kategoriziranje, flat/hilly, long/short/medium)"
   ]
  },
  {
   "cell_type": "code",
   "execution_count": 110,
   "id": "5b498879",
   "metadata": {},
   "outputs": [
    {
     "name": "stdout",
     "output_type": "stream",
     "text": [
      "dict_keys(['id', 'resource_state', 'name', 'activity_type', 'distance', 'average_grade', 'maximum_grade', 'elevation_high', 'elevation_low', 'start_latlng', 'end_latlng', 'elevation_profile', 'elevation_profiles', 'climb_category', 'city', 'state', 'country', 'private', 'hazardous', 'starred', 'created_at', 'updated_at', 'total_elevation_gain', 'map', 'effort_count', 'athlete_count', 'star_count', 'athlete_segment_stats', 'xoms', 'local_legend'])\n"
     ]
    }
   ],
   "source": [
    "print(segments[0].keys())"
   ]
  }
 ],
 "metadata": {
  "kernelspec": {
   "display_name": "Python 3",
   "language": "python",
   "name": "python3"
  },
  "language_info": {
   "codemirror_mode": {
    "name": "ipython",
    "version": 3
   },
   "file_extension": ".py",
   "mimetype": "text/x-python",
   "name": "python",
   "nbconvert_exporter": "python",
   "pygments_lexer": "ipython3",
   "version": "3.13.1"
  }
 },
 "nbformat": 4,
 "nbformat_minor": 5
}
